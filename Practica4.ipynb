{
 "cells": [
  {
   "cell_type": "markdown",
   "id": "7095a7a0",
   "metadata": {},
   "source": [
    "<table>\n",
    "    <tr style=\"background-color: transparent;  text-align:center;\">\n",
    "        <td><font size=\"7\" color=\"FF3434\">Práctica 4</font></td>\n",
    "    </tr>\n",
    "    <tr style=\"background-color: transparent; text-align:center;\">\n",
    "        <td><font size=\"6\" color=\"black\">Laboratorio de computación cuántica </font></td>\n",
    "    </tr>\n",
    "    <tr style=\"background-color: transparent; text-align:center;\">\n",
    "        <td><font size=\"5\" color=\"black\">Facultad de Ingeniería, UNAM</font></td>\n",
    "    </tr>\n",
    "    <tr style=\"background-color: transparent; text-align:center;\">\n",
    "        <td><font size=\"4\" color=\"black\">Andrés Urbano Andrea</font></td>\n",
    "    </tr>\n",
    "   \n",
    "</table>"
   ]
  },
  {
   "cell_type": "markdown",
   "id": "eb3ba77b-f724-4170-a508-7fd92eaefaea",
   "metadata": {},
   "source": [
    "## Conceptos preliminares"
   ]
  },
  {
   "cell_type": "markdown",
   "id": "930e7ade-a44a-4130-b0b2-24da85e33e42",
   "metadata": {},
   "source": [
    "### Hadamard"
   ]
  },
  {
   "cell_type": "markdown",
   "id": "3272ab45",
   "metadata": {},
   "source": [
    "Sabemos que aplicando Hadamard al estado $\\ket{0}$, obtenemos $\\frac{1}{\\sqrt{2}}\\left(\\ket{0}+\\ket{1}\\right)$, y aplicando Hadamard al estado $\\ket{1}$, obtenemos $\\frac{1}{\\sqrt{2}}\\left(\\ket{0}-\\ket{1}\\right)$.\n",
    "\n",
    "Ahora sea $x_1 \\in \\{0,1\\}$. Consideremos la siguiente expresión.\n",
    "\n",
    "$$H\\ket{x_1} = \\frac{1}{\\sqrt{2}} \\left( \\ket{0} + (-1)^{x_1} \\ket{1} \\right) = \\frac{1 }{\\sqrt{2}}\\sum_{z\\in\\{0,1\\}}(-1)^{x_1z}\\ket{z}$$\n",
    "\n",
    "Cuando $x_1=0$, entonces tenemos un signo más y cuando $x_1=1$, entonces tenemos un signo menos. Entonces, podemos comenzar a expresar el estado que obtenemos después de aplicar Hadamard a un qubit arbitrario usando la expresión anterior."
   ]
  },
  {
   "cell_type": "markdown",
   "id": "60adf3b2-e681-4cee-84fe-4deb5dc32c45",
   "metadata": {},
   "source": [
    "¿Qué sucede cuando aplicamos $H^{\\otimes n}$ a un registro de $n$-qubits? Podemos adivinar intuitivamente que aplicar el operador a un registro con todos $0$s produciría una superposición igual de todos los números naturales posibles como:\n",
    "\n",
    "$$ H^{\\otimes n} \\ket{0}^{\\otimes n} = \\frac{1}{\\sqrt{2^n}} \\sum_{x=0}^{2^n-1} \\ket{x} $$\n",
    "\n",
    "¿Qué pasa con los estados arbitrarios? Entonces, usando la ecuación anterior podemos escribir la siguiente expresión:\n",
    "\n",
    "$$\n",
    "\\begin{aligned}\n",
    "H^{\\otimes n} \\ket{x} &= \\left(\\frac{1}{\\sqrt{2}}\\sum_{z_1\\in\\{0,1\\}}(-1)^{ x_1z_1}\\ket{z_1}\\right) \\otimes \\left(\\frac{1}{\\sqrt{2}}\\sum_{z_2\\in\\{0,1\\}}(-1)^{x_2z_2}\\ket{z_2} \\right) \\otimes \\cdots \\otimes \\left(\\frac{1}{\\sqrt{2}}\\sum_{z_n\\in\\{0,1\\}}(-1)^{x_nz_n} \\ket{z_n}\\right)\\\\\\\\\n",
    "&= \\frac{1}{\\sqrt{2^n}} \\sum_{z=0}^{2^n-1}(-1)^{x \\cdot z} \\ket{z}\n",
    "\\end{aligned}\n",
    "$$\n",
    "\n",
    "donde $\\ket{x}=\\ket{x_1\\cdots x_n}$, $\\ket{z}=\\ket{z_1\\cdots z_n}$ y $ x \\cdot z $ es la operación producto punto (bit a bit) módulo 2, es decir,\n",
    "\n",
    "$$ x \\cdot z = \\sum_{i=1}^n x_i \\cdot z_i \\pmod 2 $$"
   ]
  },
  {
   "cell_type": "markdown",
   "id": "835b3f94-5218-4b03-aa18-2edcb5feaa03",
   "metadata": {},
   "source": [
    "## Actividades"
   ]
  },
  {
   "cell_type": "markdown",
   "id": "66357506-33a1-47a9-a282-e5d02a322c74",
   "metadata": {
    "jp-MarkdownHeadingCollapsed": true
   },
   "source": [
    "#### Actividad 1\n",
    "\n",
    "1. Aplica $H^{\\otimes 4}$ a $\\ket{15}$. ¿Cuál es el resultado?"
   ]
  },
  {
   "cell_type": "markdown",
   "id": "0bbff816-b45f-44e7-a8ea-923bbac94f2e",
   "metadata": {},
   "source": [
    "<div class=\"alert alert-block alert-info\">\n",
    "<strong>Actividad 1</strong>: \n",
    "\n",
    "$$ $$\n",
    "\n",
    "Dado $\\ket{x}=\\ket{15}=\\ket{1111}$, aplicar $H^{\\otimes 4}$ a $\\ket{x}$\n",
    "\n",
    "Usamos la fórmula: $H^{\\otimes 3} \\ket{x} =\\frac{1}{\\sqrt{2^n}} \\sum\\limits_{z=0}^{2^n-1}(-1)^{x \\cdot z} \\ket{z}$\n",
    "\n",
    "Notemos que\n",
    "\n",
    "<table>\n",
    "    <tr>\n",
    "        <td align=\"center\">$z$</td>\n",
    "        <td align=\"center\">$x\\cdot z$</td>\n",
    "        <td align=\"center\">$(-1)^{x\\cdot z}$</td>\n",
    "    </tr>\n",
    "    <tr>\n",
    "        <td align=\"center\">$0\\to 0000$</td>\n",
    "        <td align=\"center\">$0$</td>\n",
    "        <td align=\"center\">$1$</td>\n",
    "    </tr>\n",
    "    <tr>\n",
    "        <td align=\"center\">$1\\to 0001$</td>\n",
    "        <td align=\"center\">$1$</td>\n",
    "        <td align=\"center\">$-1$</td>\n",
    "    </tr>\n",
    "    <tr>\n",
    "        <td align=\"center\">$2\\to 0010$</td>\n",
    "        <td align=\"center\">$1$</td>\n",
    "        <td align=\"center\">$-1$</td>\n",
    "    </tr>\n",
    "    <tr>\n",
    "        <td align=\"center\">$3\\to 0011$</td>\n",
    "        <td align=\"center\">$0$</td>\n",
    "        <td align=\"center\">$1$</td>\n",
    "    </tr>\n",
    "    <tr>\n",
    "        <td align=\"center\">$4\\to 0100$</td>\n",
    "        <td align=\"center\">$1$</td>\n",
    "        <td align=\"center\">$-1$</td>\n",
    "    </tr>\n",
    "    <tr>\n",
    "        <td align=\"center\">$5\\to 0101$</td>\n",
    "        <td align=\"center\">$0$</td>\n",
    "        <td align=\"center\">$1$</td>\n",
    "    </tr>\n",
    "    <tr>\n",
    "        <td align=\"center\">$6\\to 0110$</td>\n",
    "        <td align=\"center\">$0$</td>\n",
    "        <td align=\"center\">$1$</td>\n",
    "    </tr>\n",
    "    <tr>\n",
    "        <td align=\"center\">$7\\to 0111$</td>\n",
    "        <td align=\"center\">$1$</td>\n",
    "        <td align=\"center\">$-1$</td>\n",
    "    </tr>\n",
    "    <tr>\n",
    "        <td align=\"center\">$8\\to 1000$</td>\n",
    "        <td align=\"center\">$1$</td>\n",
    "        <td align=\"center\">$-1$</td>\n",
    "    </tr>\n",
    "    <tr>\n",
    "        <td align=\"center\">$9\\to 1001$</td>\n",
    "        <td align=\"center\">$0$</td>\n",
    "        <td align=\"center\">$1$</td>\n",
    "    </tr>\n",
    "    <tr>\n",
    "        <td align=\"center\">$10\\to 1010$</td>\n",
    "        <td align=\"center\">$0$</td>\n",
    "        <td align=\"center\">$1$</td>\n",
    "    </tr>\n",
    "    <tr>\n",
    "        <td align=\"center\">$11\\to 1011$</td>\n",
    "        <td align=\"center\">$1$</td>\n",
    "        <td align=\"center\">$-1$</td>\n",
    "    </tr>\n",
    "    <tr>\n",
    "        <td align=\"center\">$12\\to 1100$</td>\n",
    "        <td align=\"center\">$0$</td>\n",
    "        <td align=\"center\">$1$</td>\n",
    "    </tr>\n",
    "    <tr>\n",
    "        <td align=\"center\">$13\\to 1101$</td>\n",
    "        <td align=\"center\">$1$</td>\n",
    "        <td align=\"center\">$-1$</td>\n",
    "    </tr>\n",
    "    <tr>\n",
    "        <td align=\"center\">$14\\to 1110$</td>\n",
    "        <td align=\"center\">$1$</td>\n",
    "        <td align=\"center\">$-1$</td>\n",
    "    </tr>\n",
    "    <tr>\n",
    "        <td align=\"center\">$15\\to 1111$</td>\n",
    "        <td align=\"center\">$0$</td>\n",
    "        <td align=\"center\">$1$</td>\n",
    "    </tr>\n",
    "</table>\n",
    "\n",
    "Donde, si $x=1111$, entonces \n",
    "\n",
    "$$x \\cdot z = 1111 \\cdot 0000 =\\sum_{i=1}^3 x_i \\cdot z_i \\pmod 2 = \\left(1\\cdot 0 + 1\\cdot 0 + 1\\cdot 0 + 1\\cdot 0\\right) \\pmod 2 = 0 \\pmod 2 = 0$$\n",
    "$$x \\cdot z = 1111 \\cdot 0001 =\\sum_{i=1}^3 x_i \\cdot z_i \\pmod 2 = \\left(1\\cdot 0 + 1\\cdot 0 + 1\\cdot 0 + 1\\cdot 1\\right) \\pmod 2 = 1 \\pmod 2 = 1$$\n",
    "$$x \\cdot z = 1111 \\cdot 0010 =\\sum_{i=1}^3 x_i \\cdot z_i \\pmod 2 = \\left(1\\cdot 0 + 1\\cdot 0 + 1\\cdot 1 + 1\\cdot 0\\right) \\pmod 2 = 1 \\pmod 2 = 1$$\n",
    "$$x \\cdot z = 1111 \\cdot 0011 =\\sum_{i=1}^3 x_i \\cdot z_i \\pmod 2 = \\left(1\\cdot 0 + 1\\cdot 0 + 1\\cdot 1 + 1\\cdot 1\\right) \\pmod 2 = 2 \\pmod 2 = 0$$\n",
    "$$x \\cdot z = 1111 \\cdot 0100 =\\sum_{i=1}^3 x_i \\cdot z_i \\pmod 2 = \\left(1\\cdot 0 + 1\\cdot 1 + 1\\cdot 0 + 1\\cdot 0\\right) \\pmod 2 = 1 \\pmod 2 = 1$$\n",
    "$$x \\cdot z = 1111 \\cdot 0101 =\\sum_{i=1}^3 x_i \\cdot z_i \\pmod 2 = \\left(1\\cdot 0 + 1\\cdot 1 + 1\\cdot 0 + 1\\cdot 1\\right) \\pmod 2 = 2 \\pmod 2 = 0$$\n",
    "$$x \\cdot z = 1111 \\cdot 0110 =\\sum_{i=1}^3 x_i \\cdot z_i \\pmod 2 = \\left(1\\cdot 0 + 1\\cdot 1 + 1\\cdot 1 + 1\\cdot 0\\right) \\pmod 2 = 2 \\pmod 2 = 0$$\n",
    "$$x \\cdot z = 1111 \\cdot 0111 =\\sum_{i=1}^3 x_i \\cdot z_i \\pmod 2 = \\left(1\\cdot 0 + 1\\cdot 1 + 1\\cdot 1 + 1\\cdot 1\\right) \\pmod 2 = 3 \\pmod 2 = 1$$\n",
    "$$x \\cdot z = 1111 \\cdot 1000 =\\sum_{i=1}^3 x_i \\cdot z_i \\pmod 2 = \\left(1\\cdot 1 + 1\\cdot 0 + 1\\cdot 0 + 1\\cdot 0\\right) \\pmod 2 = 1 \\pmod 2 = 1$$\n",
    "$$x \\cdot z = 1111 \\cdot 1001 =\\sum_{i=1}^3 x_i \\cdot z_i \\pmod 2 = \\left(1\\cdot 1 + 1\\cdot 0 + 1\\cdot 0 + 1\\cdot 1\\right) \\pmod 2 = 2 \\pmod 2 = 0$$\n",
    "$$x \\cdot z = 1111 \\cdot 1010 =\\sum_{i=1}^3 x_i \\cdot z_i \\pmod 2 = \\left(1\\cdot 1 + 1\\cdot 0 + 1\\cdot 1 + 1\\cdot 0\\right) \\pmod 2 = 2 \\pmod 2 = 0$$\n",
    "$$x \\cdot z = 1111 \\cdot 1011 =\\sum_{i=1}^3 x_i \\cdot z_i \\pmod 2 = \\left(1\\cdot 1 + 1\\cdot 0 + 1\\cdot 1 + 1\\cdot 1\\right) \\pmod 2 = 3 \\pmod 2 = 1$$\n",
    "$$x \\cdot z = 1111 \\cdot 1100 =\\sum_{i=1}^3 x_i \\cdot z_i \\pmod 2 = \\left(1\\cdot 1 + 1\\cdot 1 + 1\\cdot 0 + 1\\cdot 0\\right) \\pmod 2 = 2 \\pmod 2 = 0$$\n",
    "$$x \\cdot z = 1111 \\cdot 1101 =\\sum_{i=1}^3 x_i \\cdot z_i \\pmod 2 = \\left(1\\cdot 1 + 1\\cdot 1 + 1\\cdot 0 + 1\\cdot 1\\right) \\pmod 2 = 3 \\pmod 2 = 1$$\n",
    "$$x \\cdot z = 1111 \\cdot 1110 =\\sum_{i=1}^3 x_i \\cdot z_i \\pmod 2 = \\left(1\\cdot 1 + 1\\cdot 1 + 1\\cdot 1 + 1\\cdot 0\\right) \\pmod 2 = 3 \\pmod 2 = 1$$\n",
    "$$x \\cdot z = 1111 \\cdot 1111 =\\sum_{i=1}^3 x_i \\cdot z_i \\pmod 2 = \\left(1\\cdot 1 + 1\\cdot 1 + 1\\cdot 1 + 1\\cdot 1\\right) \\pmod 2 = 4 \\pmod 2 = 0$$\n",
    "\n",
    "De este modo, tenemos que,\n",
    "\n",
    "$$\n",
    "H^{\\otimes 4} \\ket{1111} = \\frac{1}{\\sqrt{16}}\\Big(\\ket{0000}-\\ket{0001}-\\ket{0010}+\\ket{0011}-\\ket{0100}+\\ket{0101}+\\ket{0110}-\\ket{0111}- \n",
    "$$\n",
    "$$\n",
    "   \\ket{1000}+\\ket{1001}+\\ket{1010}-\\ket{1011}+\\ket{1100}-\\ket{1101}-\\ket{1110}+\\ket{1111}\\Big)\n",
    "$$\n"
   ]
  },
  {
   "cell_type": "markdown",
   "id": "0169eed7-4bc5-42b1-9b86-2fd3f2757416",
   "metadata": {},
   "source": [
    "#### Actividad 2\n",
    "2. Implementa el algoritmo de Deutsch usando `spinqit`. Simúlalo."
   ]
  },
  {
   "cell_type": "code",
   "execution_count": null,
   "id": "e15dd877-a1a4-4154-bf18-826c10904604",
   "metadata": {},
   "outputs": [],
   "source": [
    "# Oráculo (Phase kickback)\n",
    "\n",
    "def U_f (circ):\n",
    "    circ << (X, q[0])    # Inicializa en 1\n",
    "    circ << (H, q[0])    #  Hardamar aplicada a 1 es el estado menos\n",
    "\n",
    "    circ << "
   ]
  },
  {
   "cell_type": "code",
   "execution_count": 2,
   "id": "05994e5e-1af7-41d3-8ead-3140f6ffbe2f",
   "metadata": {},
   "outputs": [
    {
     "ename": "ModuleNotFoundError",
     "evalue": "No module named 'spinqit'",
     "output_type": "error",
     "traceback": [
      "\u001b[1;31m---------------------------------------------------------------------------\u001b[0m",
      "\u001b[1;31mModuleNotFoundError\u001b[0m                       Traceback (most recent call last)",
      "Cell \u001b[1;32mIn[2], line 1\u001b[0m\n\u001b[1;32m----> 1\u001b[0m \u001b[38;5;28;01mfrom\u001b[39;00m \u001b[38;5;21;01mspinqit\u001b[39;00m \u001b[38;5;28;01mimport\u001b[39;00m get_basic_simulator, get_compiler, BasicSimulatorConfig\n\u001b[0;32m      2\u001b[0m \u001b[38;5;28;01mfrom\u001b[39;00m \u001b[38;5;21;01mspinqit\u001b[39;00m \u001b[38;5;28;01mimport\u001b[39;00m Circuit, H, X, draw, CZ\n\u001b[0;32m      3\u001b[0m \u001b[38;5;28;01mfrom\u001b[39;00m \u001b[38;5;21;01mspinqit\u001b[39;00m\u001b[38;5;21;01m.\u001b[39;00m\u001b[38;5;21;01mutils\u001b[39;00m \u001b[38;5;28;01mimport\u001b[39;00m print_circuit\n",
      "\u001b[1;31mModuleNotFoundError\u001b[0m: No module named 'spinqit'"
     ]
    }
   ],
   "source": [
    "from spinqit import get_basic_simulator, get_compiler, BasicSimulatorConfig\n",
    "from spinqit import Circuit, H, X, draw, CZ\n",
    "from spinqit.utils import print_circuit\n",
    "\n",
    "\n",
    "circ = Circuit()\n",
    "q = circ.allocateQubits(2)              # circuito con 2 qubits\n",
    "circ << (X, q[1])\n",
    "circ << (H, q[0])\n",
    "circ << (H, q[1])\n",
    "circ << (CZ, q[0], q[1])\n",
    "\n",
    "print(print_circuit(circ_hh))\n",
    "print()\n",
    "\n",
    "comp = get_compiler()\n",
    "engine = get_basic_simulator()\n",
    "\n",
    "exe = comp.compile(circ_hh, 0)\n",
    "draw(exe)\n",
    "\n",
    "config = BasicSimulatorConfig()\n",
    "config.configure_shots(1024)\n",
    "result = engine.execute(exe, config)\n",
    "\n",
    "print(result.counts)\n",
    "print(result.probabilities)\n",
    "print(result.states)\n",
    "print()"
   ]
  },
  {
   "cell_type": "code",
   "execution_count": null,
   "id": "a48794b1-f491-4e2a-be0a-f43b07f9eb66",
   "metadata": {},
   "outputs": [],
   "source": []
  }
 ],
 "metadata": {
  "kernelspec": {
   "display_name": "Python 3 (ipykernel)",
   "language": "python",
   "name": "python3"
  },
  "language_info": {
   "codemirror_mode": {
    "name": "ipython",
    "version": 3
   },
   "file_extension": ".py",
   "mimetype": "text/x-python",
   "name": "python",
   "nbconvert_exporter": "python",
   "pygments_lexer": "ipython3",
   "version": "3.11.7"
  }
 },
 "nbformat": 4,
 "nbformat_minor": 5
}
